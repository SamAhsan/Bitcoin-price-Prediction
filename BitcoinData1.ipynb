{
 "cells": [
  {
   "cell_type": "code",
   "execution_count": 115,
   "id": "8b27fe30-4ca4-483e-a1e4-50bd68a24dcb",
   "metadata": {},
   "outputs": [
    {
     "name": "stderr",
     "output_type": "stream",
     "text": [
      "C:\\Users\\BISMILLAH COMPUTERS\\anaconda3\\Lib\\site-packages\\sklearn\\base.py:493: UserWarning: X does not have valid feature names, but DecisionTreeRegressor was fitted with feature names\n",
      "  warnings.warn(\n"
     ]
    },
    {
     "data": {
      "text/plain": [
       "array([[70203.4, 67610. ]])"
      ]
     },
     "execution_count": 115,
     "metadata": {},
     "output_type": "execute_result"
    }
   ],
   "source": [
    "# prediction part for Bitcoin\n",
    "import pandas as pd\n",
    "from sklearn.tree import DecisionTreeRegressor\n",
    "df = pd.read_csv('BitcoinData1.csv')\n",
    "X = df.drop(columns=['High','Low'])\n",
    "Y = df[['High','Low']]\n",
    "model = DecisionTreeRegressor()\n",
    "model.fit(X, Y)\n",
    "predictions = model.predict([[70955.3, 72343.7]])\n",
    "predictions"
   ]
  },
  {
   "cell_type": "code",
   "execution_count": 117,
   "id": "db56b916-19ef-49d5-81eb-bc34e9b8baf9",
   "metadata": {},
   "outputs": [
    {
     "name": "stdout",
     "output_type": "stream",
     "text": [
      "Mean Squared Error: 1016390.3030769222\n",
      "R^2 Score: 0.9540316508968983\n"
     ]
    }
   ],
   "source": [
    "# MSE AND R2 score check\n",
    "from sklearn.model_selection import train_test_split\n",
    "from sklearn.metrics import mean_squared_error, r2_score\n",
    "df = pd.read_csv('BitcoinData1.csv')\n",
    "X = df.drop(columns=['High','Low'])\n",
    "Y = df[['High','Low']]\n",
    "X_train, X_test, Y_train, Y_test = train_test_split (X, Y, test_size=0.2)\n",
    "model = DecisionTreeRegressor()\n",
    "model.fit(X_train, Y_train)\n",
    "predictions = model.predict(X_test)\n",
    "score = mean_squared_error(Y_test, predictions)\n",
    "r2 = r2_score(Y_test, predictions)\n",
    "print(\"Mean Squared Error:\", score)\n",
    "print(\"R^2 Score:\", r2)"
   ]
  },
  {
   "cell_type": "code",
   "execution_count": null,
   "id": "2191f6b9-d3c4-4414-bee2-721283100ebf",
   "metadata": {},
   "outputs": [],
   "source": []
  }
 ],
 "metadata": {
  "kernelspec": {
   "display_name": "Python 3 (ipykernel)",
   "language": "python",
   "name": "python3"
  },
  "language_info": {
   "codemirror_mode": {
    "name": "ipython",
    "version": 3
   },
   "file_extension": ".py",
   "mimetype": "text/x-python",
   "name": "python",
   "nbconvert_exporter": "python",
   "pygments_lexer": "ipython3",
   "version": "3.12.4"
  }
 },
 "nbformat": 4,
 "nbformat_minor": 5
}
